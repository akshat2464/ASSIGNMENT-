{
 "cells": [
  {
   "cell_type": "code",
   "execution_count": 1,
   "id": "e453beb3",
   "metadata": {},
   "outputs": [
    {
     "data": {
      "text/plain": [
       "[1, 3, 5, 7, 9, 11, 13, 15, 17, 19, 21, 23, 25]"
      ]
     },
     "execution_count": 1,
     "metadata": {},
     "output_type": "execute_result"
    }
   ],
   "source": [
    "#1\n",
    "''' def keyword is use to create a function'''\n",
    "\n",
    "def oddno():\n",
    "    l1=[]\n",
    "    \n",
    "    for i in range(1,26):\n",
    "        if(i%2 !=0):\n",
    "            l1.append(i)\n",
    "    return l1\n",
    "oddno()"
   ]
  },
  {
   "cell_type": "code",
   "execution_count": 2,
   "id": "b11aa100",
   "metadata": {},
   "outputs": [
    {
     "data": {
      "text/plain": [
       "((1, 2, 3), 10)"
      ]
     },
     "execution_count": 2,
     "metadata": {},
     "output_type": "execute_result"
    }
   ],
   "source": [
    "\"2\"\n",
    "# *args  is used to pass a variable number of arguments to a function. It is used to pass a non-keyworded,variable-length argument list. \n",
    "# **kwargs The special syntax **kwargs in function definitions in Python is used to pass a keyworded, variable-length argument list. We use the name kwargs with the double star. The reason is that the double star allows us to pass through keyword arguments\n",
    "\n",
    "def test(*args,a):\n",
    "    return args,a\n",
    "test(1,2,3,a=10)"
   ]
  },
  {
   "cell_type": "code",
   "execution_count": 3,
   "id": "ee8bc837",
   "metadata": {},
   "outputs": [
    {
     "data": {
      "text/plain": [
       "{'x': [1, 2, 3], 'y': ['sup']}"
      ]
     },
     "execution_count": 3,
     "metadata": {},
     "output_type": "execute_result"
    }
   ],
   "source": [
    "def test1(**kwargs):\n",
    "    return kwargs\n",
    "test1(x=[1,2,3],y=[\"sup\"])"
   ]
  },
  {
   "cell_type": "code",
   "execution_count": 4,
   "id": "b50e18ef",
   "metadata": {},
   "outputs": [
    {
     "name": "stdout",
     "output_type": "stream",
     "text": [
      "2\n",
      "4\n",
      "6\n",
      "8\n",
      "10\n"
     ]
    }
   ],
   "source": [
    "\"3\"\n",
    "#In Python, an iterator is an object that allows you to iterate over collections of data, such as lists, tuples, dictionaries, and sets\n",
    "#iter() method is used and after that next() function is used for itertion.\n",
    "l=[2,4,6,8,10,12,14,16,18,20]\n",
    "a=iter(l)\n",
    "for i in range(5):\n",
    "    print(next(a))"
   ]
  },
  {
   "cell_type": "code",
   "execution_count": 6,
   "id": "f19af074",
   "metadata": {},
   "outputs": [
    {
     "name": "stdout",
     "output_type": "stream",
     "text": [
      "1\n",
      "2\n",
      "3\n",
      "4\n",
      "5\n"
     ]
    }
   ],
   "source": [
    "\"4\"\n",
    "#  Python generator function allows you to declare a function that behaves like an iterator, providing a faster and easier way to create iterators.\n",
    "#  By  using yield keyword TThe values returned by yield statement are stored as local variables states, which allows control over memory overhead allocation\n",
    "def gf(n):\n",
    "    count=1\n",
    "    for i in range(n):\n",
    "        yield count\n",
    "        count=count+1\n",
    "for i in gf(5):\n",
    "    print(i)"
   ]
  },
  {
   "cell_type": "code",
   "execution_count": 7,
   "id": "bb1e01b1",
   "metadata": {},
   "outputs": [
    {
     "name": "stdout",
     "output_type": "stream",
     "text": [
      "3\n",
      "5\n",
      "7\n",
      "9\n",
      "11\n",
      "13\n",
      "15\n",
      "17\n",
      "19\n",
      "21\n",
      "23\n",
      "25\n",
      "27\n",
      "29\n",
      "31\n",
      "33\n",
      "35\n",
      "37\n",
      "39\n",
      "41\n"
     ]
    }
   ],
   "source": [
    "\"5\"\n",
    "def prime():\n",
    "    \n",
    "    for i in range(2,1001):\n",
    "        for y in range(2,i):\n",
    "            if(i%y==0):\n",
    "                break\n",
    "            else:\n",
    "                yield i\n",
    "                break\n",
    "        \n",
    "a=prime()\n",
    "for i in range(20):\n",
    "    print(next(a))"
   ]
  },
  {
   "cell_type": "code",
   "execution_count": 8,
   "id": "cb01d10e",
   "metadata": {},
   "outputs": [
    {
     "name": "stdout",
     "output_type": "stream",
     "text": [
      "0\n",
      "1\n",
      "1\n",
      "2\n",
      "3\n",
      "5\n",
      "8\n",
      "13\n",
      "21\n",
      "34\n"
     ]
    }
   ],
   "source": [
    "\"6\"\n",
    "def fib():\n",
    "    a,b=0,1\n",
    "    while True:\n",
    "        yield a\n",
    "        a,b=b,a+b\n",
    "fib_series=fib()\n",
    "for i in range(10):\n",
    "    print(next(fib_series))"
   ]
  },
  {
   "cell_type": "code",
   "execution_count": 9,
   "id": "2726d16c",
   "metadata": {},
   "outputs": [
    {
     "data": {
      "text/plain": [
       "['p', 'w', 's', 'k', 'i', 'l', 'l', 's']"
      ]
     },
     "execution_count": 9,
     "metadata": {},
     "output_type": "execute_result"
    }
   ],
   "source": [
    "\"7\"\n",
    "s=\"pwskills\"\n",
    "a=[i for i in s]\n",
    "a"
   ]
  },
  {
   "cell_type": "code",
   "execution_count": 10,
   "id": "2154d25b",
   "metadata": {},
   "outputs": [
    {
     "name": "stdout",
     "output_type": "stream",
     "text": [
      "9881889\n",
      "yes\n"
     ]
    }
   ],
   "source": [
    "\"8\"\n",
    "num=int(input())\n",
    "temp=num\n",
    "rev=0\n",
    "\n",
    "while(temp>0): \n",
    "        ld=temp%10\n",
    "        rev=(rev*10)+ld\n",
    "    \n",
    "        temp=int(temp/10)\n",
    "if (rev == num):\n",
    "        print(\"yes\")\n",
    "else:\n",
    "        print(\"no\")\n"
   ]
  },
  {
   "cell_type": "code",
   "execution_count": 11,
   "id": "a92e9717",
   "metadata": {},
   "outputs": [
    {
     "data": {
      "text/plain": [
       "[1,\n",
       " 3,\n",
       " 5,\n",
       " 7,\n",
       " 9,\n",
       " 11,\n",
       " 13,\n",
       " 15,\n",
       " 17,\n",
       " 19,\n",
       " 21,\n",
       " 23,\n",
       " 25,\n",
       " 27,\n",
       " 29,\n",
       " 31,\n",
       " 33,\n",
       " 35,\n",
       " 37,\n",
       " 39,\n",
       " 41,\n",
       " 43,\n",
       " 45,\n",
       " 47,\n",
       " 49,\n",
       " 51,\n",
       " 53,\n",
       " 55,\n",
       " 57,\n",
       " 59,\n",
       " 61,\n",
       " 63,\n",
       " 65,\n",
       " 67,\n",
       " 69,\n",
       " 71,\n",
       " 73,\n",
       " 75,\n",
       " 77,\n",
       " 79,\n",
       " 81,\n",
       " 83,\n",
       " 85,\n",
       " 87,\n",
       " 89,\n",
       " 91,\n",
       " 93,\n",
       " 95,\n",
       " 97,\n",
       " 99]"
      ]
     },
     "execution_count": 11,
     "metadata": {},
     "output_type": "execute_result"
    }
   ],
   "source": [
    "\"9\"\n",
    "a=[i for i in range(101)if i%2==1 ]\n",
    "a"
   ]
  },
  {
   "cell_type": "code",
   "execution_count": null,
   "id": "c612f460",
   "metadata": {},
   "outputs": [],
   "source": []
  }
 ],
 "metadata": {
  "kernelspec": {
   "display_name": "Python 3 (ipykernel)",
   "language": "python",
   "name": "python3"
  },
  "language_info": {
   "codemirror_mode": {
    "name": "ipython",
    "version": 3
   },
   "file_extension": ".py",
   "mimetype": "text/x-python",
   "name": "python",
   "nbconvert_exporter": "python",
   "pygments_lexer": "ipython3",
   "version": "3.9.13"
  }
 },
 "nbformat": 4,
 "nbformat_minor": 5
}
