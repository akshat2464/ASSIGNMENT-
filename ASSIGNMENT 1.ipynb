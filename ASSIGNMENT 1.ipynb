{
 "cells": [
  {
   "cell_type": "code",
   "execution_count": 1,
   "id": "73561fb1",
   "metadata": {},
   "outputs": [],
   "source": [
    "# Q1\n",
    "\n",
    "a= \"String\"          #string\n",
    "b=[1,2,\"string\"]     #list\n",
    "c=2.46               #float\n",
    "d =3,4,5             #tuple\n"
   ]
  },
  {
   "cell_type": "code",
   "execution_count": 2,
   "id": "13ce41e3",
   "metadata": {},
   "outputs": [],
   "source": [
    "#Q2\n",
    "\n",
    "# var1 is a string data type\n",
    "# var2 is a string data type\n",
    "# var3 is a list data type\n",
    "# var4 is a int data type"
   ]
  },
  {
   "cell_type": "code",
   "execution_count": 3,
   "id": "5e1fd5e7",
   "metadata": {},
   "outputs": [],
   "source": [
    "#Q3\n",
    "\n",
    "x=10\n",
    "y=5"
   ]
  },
  {
   "cell_type": "code",
   "execution_count": 4,
   "id": "6291ff3b",
   "metadata": {},
   "outputs": [
    {
     "data": {
      "text/plain": [
       "2.0"
      ]
     },
     "execution_count": 4,
     "metadata": {},
     "output_type": "execute_result"
    }
   ],
   "source": [
    "x/y  #Use for dividing two numbers"
   ]
  },
  {
   "cell_type": "code",
   "execution_count": 5,
   "id": "c16e62fb",
   "metadata": {},
   "outputs": [
    {
     "data": {
      "text/plain": [
       "2"
      ]
     },
     "execution_count": 5,
     "metadata": {},
     "output_type": "execute_result"
    }
   ],
   "source": [
    "x//y  #use to do the floor division"
   ]
  },
  {
   "cell_type": "code",
   "execution_count": 6,
   "id": "d9087271",
   "metadata": {},
   "outputs": [
    {
     "data": {
      "text/plain": [
       "0"
      ]
     },
     "execution_count": 6,
     "metadata": {},
     "output_type": "execute_result"
    }
   ],
   "source": [
    "x%y   #use to find the reminder of the dividend"
   ]
  },
  {
   "cell_type": "code",
   "execution_count": 7,
   "id": "31e2025c",
   "metadata": {},
   "outputs": [
    {
     "data": {
      "text/plain": [
       "100000"
      ]
     },
     "execution_count": 7,
     "metadata": {},
     "output_type": "execute_result"
    }
   ],
   "source": [
    "x**y  #use to find the power"
   ]
  },
  {
   "cell_type": "code",
   "execution_count": 8,
   "id": "82af3c2c",
   "metadata": {},
   "outputs": [
    {
     "name": "stdout",
     "output_type": "stream",
     "text": [
      "1\n",
      "<class 'int'>\n",
      "string\n",
      "<class 'str'>\n",
      "4\n",
      "<class 'int'>\n",
      "5.6\n",
      "<class 'float'>\n",
      "True\n",
      "<class 'bool'>\n",
      "pw\n",
      "<class 'str'>\n",
      "a\n",
      "<class 'str'>\n",
      "2\n",
      "<class 'int'>\n",
      "3\n",
      "<class 'int'>\n",
      "4\n",
      "<class 'int'>\n"
     ]
    }
   ],
   "source": [
    "#Q4\n",
    "\n",
    "List =[1,\"string\",4,5.6,True,\"pw\",'a',2,3,4]\n",
    "for i in List:\n",
    "    print(i)\n",
    "    print(type(i))\n",
    "    "
   ]
  },
  {
   "cell_type": "code",
   "execution_count": 9,
   "id": "37172c74",
   "metadata": {},
   "outputs": [
    {
     "name": "stdout",
     "output_type": "stream",
     "text": [
      "50\n",
      "10\n",
      "50 is 5 times divisible by 10\n"
     ]
    }
   ],
   "source": [
    "#Q5\n",
    "\n",
    "A = int(input())\n",
    "B = int(input())\n",
    "while(A%B ==0):\n",
    "    print(A,\"is\",A//B,\"times divisible by\",B)\n",
    "    break"
   ]
  },
  {
   "cell_type": "code",
   "execution_count": 10,
   "id": "799557ad",
   "metadata": {},
   "outputs": [
    {
     "name": "stdout",
     "output_type": "stream",
     "text": [
      "0 of element in List is not divisible by 3\n",
      "1 of element in List is divisible by 3\n",
      "2 of element in List is divisible by 3\n",
      "3 of element in List is divisible by 3\n",
      "4 of element in List is divisible by 3\n",
      "5 of element in List is divisible by 3\n",
      "6 of element in List is divisible by 3\n",
      "7 of element in List is divisible by 3\n",
      "8 of element in List is divisible by 3\n",
      "9 of element in List is divisible by 3\n",
      "10 of element in List is divisible by 3\n",
      "11 of element in List is divisible by 3\n",
      "12 of element in List is divisible by 3\n",
      "13 of element in List is divisible by 3\n",
      "14 of element in List is divisible by 3\n",
      "15 of element in List is divisible by 3\n",
      "16 of element in List is divisible by 3\n",
      "17 of element in List is divisible by 3\n",
      "18 of element in List is divisible by 3\n",
      "19 of element in List is divisible by 3\n",
      "20 of element in List is divisible by 3\n",
      "21 of element in List is divisible by 3\n",
      "22 of element in List is divisible by 3\n",
      "23 of element in List is divisible by 3\n",
      "24 of element in List is divisible by 3\n"
     ]
    }
   ],
   "source": [
    "#Q6\n",
    "\n",
    "List=list(range(25))\n",
    "for i in List:\n",
    "    if(i/3):\n",
    "        print(i,\"of element in List is divisible by 3\")\n",
    "    else:\n",
    "        print(i,\"of element in List is not divisible by 3\")"
   ]
  },
  {
   "cell_type": "code",
   "execution_count": 11,
   "id": "56deedd4",
   "metadata": {},
   "outputs": [],
   "source": [
    "#Q7\n",
    "\n",
    "#IN SIMPLE LANGUAGE CHANGING ELEMENTS OF ELEMENTS IN A OBJECT REFERS TO THE MUTABLITY OF THAT OBJECT\n",
    "\n",
    "p=\"akshat\"                  # p is a string which is immutable which means the element of p are irreplacable or immutable\n",
    "\n",
    "List2 = [2,3,4,\"string\"]   # List2 is a list data type which means it is mutable hence, its elemnt can be replaced, insert, modify,"
   ]
  },
  {
   "cell_type": "code",
   "execution_count": null,
   "id": "e5259726",
   "metadata": {},
   "outputs": [],
   "source": []
  }
 ],
 "metadata": {
  "kernelspec": {
   "display_name": "Python 3 (ipykernel)",
   "language": "python",
   "name": "python3"
  },
  "language_info": {
   "codemirror_mode": {
    "name": "ipython",
    "version": 3
   },
   "file_extension": ".py",
   "mimetype": "text/x-python",
   "name": "python",
   "nbconvert_exporter": "python",
   "pygments_lexer": "ipython3",
   "version": "3.9.13"
  }
 },
 "nbformat": 4,
 "nbformat_minor": 5
}
