{
 "cells": [
  {
   "cell_type": "code",
   "execution_count": 1,
   "id": "68e2adcb-3b4d-4df8-9888-0eef9a5f35b6",
   "metadata": {},
   "outputs": [
    {
     "name": "stdout",
     "output_type": "stream",
     "text": [
      "0     4\n",
      "1     8\n",
      "2    15\n",
      "3    16\n",
      "4    23\n",
      "5    42\n",
      "dtype: int64\n"
     ]
    }
   ],
   "source": [
    "1.\n",
    "import pandas as pd\n",
    "\n",
    "# Creating the pandas Series\n",
    "data = [4, 8, 15, 16, 23, 42]\n",
    "series = pd.Series(data)\n",
    "\n",
    "# Printing the series\n",
    "print(series)\n"
   ]
  },
  {
   "cell_type": "code",
   "execution_count": 2,
   "id": "13783e11-2204-4a5c-a6c8-f9d7de5bf91d",
   "metadata": {},
   "outputs": [
    {
     "name": "stdout",
     "output_type": "stream",
     "text": [
      "0     3\n",
      "1     7\n",
      "2     9\n",
      "3    14\n",
      "4    18\n",
      "5    21\n",
      "6    25\n",
      "7    30\n",
      "8    35\n",
      "9    40\n",
      "dtype: int64\n"
     ]
    }
   ],
   "source": [
    "2.\n",
    "import pandas as pd\n",
    "\n",
    "# Creating a list with 10 elements\n",
    "data_list = [3, 7, 9, 14, 18, 21, 25, 30, 35, 40]\n",
    "\n",
    "# Converting the list to a pandas Series\n",
    "series_from_list = pd.Series(data_list)\n",
    "\n",
    "# Printing the series\n",
    "print(series_from_list)\n"
   ]
  },
  {
   "cell_type": "code",
   "execution_count": 3,
   "id": "29dfd323-4b12-47a2-8653-9a3bd403d5ef",
   "metadata": {},
   "outputs": [
    {
     "name": "stdout",
     "output_type": "stream",
     "text": [
      "     Name  Age  Gender\n",
      "0   Alice   25  Female\n",
      "1     Bob   30    Male\n",
      "2  Claire   27  Female\n"
     ]
    }
   ],
   "source": [
    "3.\n",
    "import pandas as pd\n",
    "\n",
    "# Creating the data as a dictionary\n",
    "data = {\n",
    "    \"Name\": [\"Alice\", \"Bob\", \"Claire\"],\n",
    "    \"Age\": [25, 30, 27],\n",
    "    \"Gender\": [\"Female\", \"Male\", \"Female\"]\n",
    "}\n",
    "\n",
    "# Converting the dictionary to a pandas DataFrame\n",
    "df = pd.DataFrame(data)\n",
    "\n",
    "# Printing the DataFrame\n",
    "print(df)\n"
   ]
  },
  {
   "cell_type": "code",
   "execution_count": 4,
   "id": "2aa7a91a-ee24-40e4-ad92-1dfa7f74146c",
   "metadata": {},
   "outputs": [
    {
     "name": "stdout",
     "output_type": "stream",
     "text": [
      "Pandas Series:\n",
      "0     4\n",
      "1     8\n",
      "2    15\n",
      "3    16\n",
      "4    23\n",
      "5    42\n",
      "dtype: int64\n"
     ]
    }
   ],
   "source": [
    "4.\n",
    "'''A DataFrame in Pandas is a two-dimensional, size-mutable, and potentially heterogeneous tabular data structure with labeled axes (rows and columns). It is similar to a table in a relational database or an Excel spreadsheet.\n",
    "\n",
    "A Series in Pandas, on the other hand, is a one-dimensional array-like object containing a sequence of values (of any data type) and an associated array of data labels, called its index.'''\n",
    "\n",
    "import pandas as pd\n",
    "\n",
    "# Creating a pandas Series\n",
    "data_series = pd.Series([4, 8, 15, 16, 23, 42])\n",
    "\n",
    "print(\"Pandas Series:\")\n",
    "print(data_series)\n"
   ]
  },
  {
   "cell_type": "code",
   "execution_count": 6,
   "id": "6b0c49c7-d4d2-4fec-9b17-6c0c6d5d14d0",
   "metadata": {},
   "outputs": [
    {
     "name": "stdout",
     "output_type": "stream",
     "text": [
      "Category\n",
      "X    900\n",
      "Y    850\n",
      "Name: Sales, dtype: int64\n"
     ]
    }
   ],
   "source": [
    "5.\n",
    "''' Pandas provides a wide range of functions to manipulate data in a DataFrame. Some of the most common functions include:\n",
    "\n",
    "head() and tail(): View the first or last n rows of the DataFrame.\n",
    "info(): Get a concise summary of the DataFrame.\n",
    "describe(): Generate descriptive statistics.\n",
    "drop(): Remove rows or columns by specifying label names and axis.\n",
    "loc and iloc: Access a group of rows and columns by labels or indices.\n",
    "groupby(): Group DataFrame using a mapper or by a Series of columns.'''\n",
    "\n",
    "import pandas as pd\n",
    "\n",
    "# Creating a sample DataFrame\n",
    "data = {\n",
    "    \"Product\": [\"A\", \"B\", \"A\", \"B\", \"C\", \"A\", \"C\"],\n",
    "    \"Category\": [\"X\", \"X\", \"Y\", \"Y\", \"X\", \"X\", \"Y\"],\n",
    "    \"Sales\": [100, 150, 200, 250, 300, 350, 400]\n",
    "}\n",
    "\n",
    "df = pd.DataFrame(data)\n",
    "\n",
    "# Grouping by 'Category' and calculating the total sales for each category\n",
    "total_sales_by_category = df.groupby(\"Category\")[\"Sales\"].sum()\n",
    "\n",
    "print(total_sales_by_category)\n"
   ]
  },
  {
   "cell_type": "code",
   "execution_count": 7,
   "id": "b249aac0-f66b-4db0-bfee-74586cbfdbe6",
   "metadata": {},
   "outputs": [
    {
     "data": {
      "text/plain": [
       "'In Pandas, both Series and DataFrame are mutable in nature, meaning you can modify their data after they have been created. However, Panel is not a part of the latest versions of Pandas. It was deprecated in version 0.20.0 and removed in version 1.0.0, as it was not widely used and had overlapping functionality with the more flexible DataFrame'"
      ]
     },
     "execution_count": 7,
     "metadata": {},
     "output_type": "execute_result"
    }
   ],
   "source": [
    "6.\n",
    "\n",
    "'''In Pandas, both Series and DataFrame are mutable in nature, meaning you can modify their data after they have been created. However, Panel is not a part of the latest versions of Pandas. It was deprecated in version 0.20.0 and removed in version 1.0.0, as it was not widely used and had overlapping functionality with the more flexible DataFrame'''\n"
   ]
  },
  {
   "cell_type": "code",
   "execution_count": 8,
   "id": "e296efe0-49cf-4026-9dc3-fb7a9b45de9a",
   "metadata": {},
   "outputs": [
    {
     "name": "stdout",
     "output_type": "stream",
     "text": [
      "     Name  Age  Gender\n",
      "0   Alice   25  Female\n",
      "1     Bob   30    Male\n",
      "2  Claire   27  Female\n"
     ]
    }
   ],
   "source": [
    "8.\n",
    "\n",
    "import pandas as pd\n",
    "\n",
    "# Creating individual Series\n",
    "names = pd.Series([\"Alice\", \"Bob\", \"Claire\"])\n",
    "ages = pd.Series([25, 30, 27])\n",
    "genders = pd.Series([\"Female\", \"Male\", \"Female\"])\n",
    "\n",
    "# Creating a DataFrame using the Series\n",
    "df = pd.DataFrame({\n",
    "    \"Name\": names,\n",
    "    \"Age\": ages,\n",
    "    \"Gender\": genders\n",
    "})\n",
    "\n",
    "# Printing the DataFrame\n",
    "print(df)\n"
   ]
  },
  {
   "cell_type": "code",
   "execution_count": null,
   "id": "c393237c-3890-41c7-8ff6-8b60a58084a6",
   "metadata": {},
   "outputs": [],
   "source": []
  }
 ],
 "metadata": {
  "kernelspec": {
   "display_name": "Python 3 (ipykernel)",
   "language": "python",
   "name": "python3"
  },
  "language_info": {
   "codemirror_mode": {
    "name": "ipython",
    "version": 3
   },
   "file_extension": ".py",
   "mimetype": "text/x-python",
   "name": "python",
   "nbconvert_exporter": "python",
   "pygments_lexer": "ipython3",
   "version": "3.11.7"
  }
 },
 "nbformat": 4,
 "nbformat_minor": 5
}
