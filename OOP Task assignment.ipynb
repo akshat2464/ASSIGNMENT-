{
 "cells": [
  {
   "cell_type": "code",
   "execution_count": 1,
   "id": "bd1af4cc",
   "metadata": {},
   "outputs": [],
   "source": [
    "\"1\"\n",
    "class vehicle:\n",
    "    def __init__(self,name_of_vehicle, max_speed,average_of_vehicle):\n",
    "        self.name_of_vehicle=name_of_vehicle\n",
    "        self.max_speed=max_speed\n",
    "        self.average_of_vehicle=average_of_vehicle"
   ]
  },
  {
   "cell_type": "code",
   "execution_count": 2,
   "id": "a3670030",
   "metadata": {},
   "outputs": [
    {
     "data": {
      "text/plain": [
       "('Toyota', 7)"
      ]
     },
     "execution_count": 2,
     "metadata": {},
     "output_type": "execute_result"
    }
   ],
   "source": [
    " \"2\"\n",
    "class car(vehicle):\n",
    "    def seating_capacity(self,capacity):\n",
    "        self.capacity=capacity\n",
    "        return self.name_of_vehicle, self.capacity\n",
    "\n",
    "a=car(\"Toyota\",220,15)\n",
    "a.seating_capacity(7)"
   ]
  },
  {
   "cell_type": "code",
   "execution_count": 3,
   "id": "c7ad1df0",
   "metadata": {},
   "outputs": [],
   "source": [
    "\"3\"\n",
    "# When more than one class inherit into a single class then this type of inheritance is called as multiple inheertiance.\n",
    "\n",
    "class A:\n",
    "    def course1():\n",
    "        return \" Science student\"\n",
    "\n",
    "class B:\n",
    "    def course2():\n",
    "        return\"commerce student\"\n",
    "\n",
    "class C(A,B):   \n",
    "    pass"
   ]
  },
  {
   "cell_type": "code",
   "execution_count": 4,
   "id": "a77dedaf",
   "metadata": {},
   "outputs": [],
   "source": [
    "student=C()"
   ]
  },
  {
   "cell_type": "code",
   "execution_count": 5,
   "id": "2d9d9fd3",
   "metadata": {},
   "outputs": [
    {
     "data": {
      "text/plain": [
       "' Science student'"
      ]
     },
     "execution_count": 5,
     "metadata": {},
     "output_type": "execute_result"
    }
   ],
   "source": [
    "C.course1()"
   ]
  },
  {
   "cell_type": "code",
   "execution_count": 6,
   "id": "8d398442",
   "metadata": {},
   "outputs": [
    {
     "data": {
      "text/plain": [
       "'commerce student'"
      ]
     },
     "execution_count": 6,
     "metadata": {},
     "output_type": "execute_result"
    }
   ],
   "source": [
    "C.course2()"
   ]
  },
  {
   "cell_type": "code",
   "execution_count": 7,
   "id": "7b116075",
   "metadata": {},
   "outputs": [],
   "source": [
    "\"4\"\n",
    "#Getter: A method that allows you to access an attribute in a given class. Setter: A method that allows you to set or mutate the value of an attribute in a class\n",
    "class pw:\n",
    "    def __init__(self,student_name,course):\n",
    "        self.__studentname=student_name\n",
    "        self.__course=course\n",
    "    def set_student_name(self,value):\n",
    "        self.__student_name=value\n",
    "    def get_student_name(self):\n",
    "        return self.__student_name\n",
    "    def set_course(self,value):\n",
    "        self.__course=value\n",
    "    def get_course(self):\n",
    "        return self.__course"
   ]
  },
  {
   "cell_type": "code",
   "execution_count": 8,
   "id": "df9e50ce",
   "metadata": {},
   "outputs": [
    {
     "data": {
      "text/plain": [
       "'Akshat'"
      ]
     },
     "execution_count": 8,
     "metadata": {},
     "output_type": "execute_result"
    }
   ],
   "source": [
    "D=pw(\"Akshat\",\"data science\")\n",
    "D.set_student_name(\"Akshat\")\n",
    "D.get_student_name()"
   ]
  },
  {
   "cell_type": "code",
   "execution_count": 9,
   "id": "4dd19b3a",
   "metadata": {},
   "outputs": [
    {
     "name": "stdout",
     "output_type": "stream",
     "text": [
      "Inside Parent\n",
      "Inside Child\n"
     ]
    }
   ],
   "source": [
    "\"5\"\n",
    "#Method overriding is an ability of any object-oriented programming language that allows a subclass or child class to provide a specific implementation of a method that is already provided by one of its super-classes or parent classes.\n",
    "class Parent():\n",
    "      \n",
    "    # Constructor\n",
    "    def __init__(self):\n",
    "        self.value = \"Inside Parent\"\n",
    "          \n",
    "    # Parent's show method\n",
    "    def show(self):\n",
    "        print(self.value)\n",
    "          \n",
    "# Defining child class\n",
    "class Child(Parent):\n",
    "      \n",
    "    # Constructor\n",
    "    def __init__(self):\n",
    "        self.value = \"Inside Child\"\n",
    "          \n",
    "    # Child's show method\n",
    "    def show(self):\n",
    "        print(self.value)\n",
    "          \n",
    "          \n",
    "# Driver's code\n",
    "obj1 = Parent()\n",
    "obj2 = Child()\n",
    "  \n",
    "obj1.show()\n",
    "obj2.show()"
   ]
  },
  {
   "cell_type": "code",
   "execution_count": null,
   "id": "ae6541a0",
   "metadata": {},
   "outputs": [],
   "source": []
  }
 ],
 "metadata": {
  "kernelspec": {
   "display_name": "Python 3 (ipykernel)",
   "language": "python",
   "name": "python3"
  },
  "language_info": {
   "codemirror_mode": {
    "name": "ipython",
    "version": 3
   },
   "file_extension": ".py",
   "mimetype": "text/x-python",
   "name": "python",
   "nbconvert_exporter": "python",
   "pygments_lexer": "ipython3",
   "version": "3.9.13"
  }
 },
 "nbformat": 4,
 "nbformat_minor": 5
}
